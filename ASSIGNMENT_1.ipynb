{
  "cells": [
    {
      "cell_type": "markdown",
      "metadata": {
        "id": "view-in-github",
        "colab_type": "text"
      },
      "source": [
        "<a href=\"https://colab.research.google.com/github/WaleedBahtti/Assignments/blob/main/ASSIGNMENT_1.ipynb\" target=\"_parent\"><img src=\"https://colab.research.google.com/assets/colab-badge.svg\" alt=\"Open In Colab\"/></a>"
      ]
    },
    {
      "cell_type": "markdown",
      "source": [
        "### Task 1: Create a for loop, which count all the roll numbers from 1 to 48, \n",
        "### but stops atyour own roll number.\n"
      ],
      "metadata": {
        "id": "Tg2BjAkyM4QN"
      },
      "id": "Tg2BjAkyM4QN"
    },
    {
      "cell_type": "code",
      "source": [
        "a=int(input(\"Waleed roll no is \"))\n",
        "for x in range(1, 49):\n",
        "    print(x, end=\", \")\n",
        "    if x == a:\n",
        "        break"
      ],
      "metadata": {
        "id": "o4yC0id8M7f2",
        "colab": {
          "base_uri": "https://localhost:8080/"
        },
        "outputId": "8920955b-fcef-4663-b851-53c14d6a0d0b"
      },
      "id": "o4yC0id8M7f2",
      "execution_count": null,
      "outputs": [
        {
          "output_type": "stream",
          "name": "stdout",
          "text": [
            "Waleed roll no is 44\n",
            "1, 2, 3, 4, 5, 6, 7, 8, 9, 10, 11, 12, 13, 14, 15, 16, 17, 18, 19, 20, 21, 22, 23, 24, 25, 26, 27, 28, 29, 30, 31, 32, 33, 34, 35, 36, 37, 38, 39, 40, 41, 42, 43, 44, "
          ]
        }
      ]
    },
    {
      "cell_type": "markdown",
      "source": [
        "### Task 2: Create a loop which display all of the roll numbers from 1 to 48, \n",
        "### but do not show five roll numbers of your friends. "
      ],
      "metadata": {
        "id": "DuV3EMEcNxJ0"
      },
      "id": "DuV3EMEcNxJ0"
    },
    {
      "cell_type": "code",
      "execution_count": null,
      "id": "5eb35eb3",
      "metadata": {
        "id": "5eb35eb3",
        "colab": {
          "base_uri": "https://localhost:8080/"
        },
        "outputId": "a121a541-46fa-4b2f-e18e-d525dc4aa755"
      },
      "outputs": [
        {
          "output_type": "stream",
          "name": "stdout",
          "text": [
            "roll no:41\n",
            "roll no:42\n",
            "roll no:43\n",
            "roll no:44\n",
            "roll no:45\n",
            "roll no:46\n",
            "1, 2, 3, 4, 5, 6, 7, 8, 9, 10, 11, 12, 13, 14, 15, 16, 17, 18, 19, 20, 21, 22, 23, 24, 25, 26, 27, 28, 29, 30, 31, 32, 33, 34, 35, 36, 37, 38, 39, 40, 47, 48, "
          ]
        }
      ],
      "source": [
        "a=int(input(\"roll no:\"))\n",
        "b=int(input(\"roll no:\"))\n",
        "c=int(input(\"roll no:\"))\n",
        "d=int(input(\"roll no:\"))\n",
        "e=int(input(\"roll no:\"))\n",
        "f=int(input(\"roll no:\"))\n",
        "for x in range(1,49):\n",
        "\n",
        "    if x == a or x == b or x == c or x == d or x == e or x == f:\n",
        "        continue\n",
        "    print(x, end=\", \")"
      ]
    },
    {
      "cell_type": "markdown",
      "source": [
        "### Task 3: Create a program with following sequence: \n",
        "### A. Ask marks of 6 subjects from one student (use: input), student must have < 49 marks in at least one subject. \n",
        "###B. Calculate percentage of student for only those subjects, having marks above 49. "
      ],
      "metadata": {
        "id": "zArlfpUpOOKt"
      },
      "id": "zArlfpUpOOKt"
    },
    {
      "cell_type": "code",
      "execution_count": null,
      "id": "ca23455b",
      "metadata": {
        "colab": {
          "base_uri": "https://localhost:8080/"
        },
        "id": "ca23455b",
        "outputId": "4628647b-8f56-44d6-b955-2b1c2f09fdca"
      },
      "outputs": [
        {
          "output_type": "stream",
          "name": "stdout",
          "text": [
            "Please enter Marks of Subject: 1. 80\n",
            "Please enter Marks of Subject: 2. 45\n",
            "Please enter Marks of Subject: 3. 69\n",
            "Please enter Marks of Subject: 4. 77\n",
            "Please enter Marks of Subject: 5. 59\n",
            "Please enter Marks of Subject: 6. 77\n",
            "47.5\n"
          ]
        }
      ],
      "source": [
        "t = 0\n",
        "a = int(input(\"Please enter Marks of Subject: \" + str(1)+\". \"))\n",
        "b = int(input(\"Please enter Marks of Subject: \" + str(2)+\". \"))\n",
        "c = int(input(\"Please enter Marks of Subject: \" + str(3)+\". \"))\n",
        "d = int(input(\"Please enter Marks of Subject: \" + str(4)+\". \"))\n",
        "e = int(input(\"Please enter Marks of Subject: \" + str(5)+\". \"))\n",
        "F = int(input(\"Please enter Marks of Subject: \" + str(6)+\". \"))\n",
        "if a > 49:\n",
        "  t += a\n",
        "if b > 49:\n",
        "  t += b\n",
        "if c > 49:\n",
        "  t += c\n",
        "if d > 49:\n",
        "  t += d\n",
        "if e > 49:\n",
        "  t += e\n",
        "if f > 49:\n",
        "  t += f\n",
        "p = t/6\n",
        "print(p)"
      ]
    },
    {
      "cell_type": "markdown",
      "source": [],
      "metadata": {
        "id": "idW0VkMPM1Nl"
      },
      "id": "idW0VkMPM1Nl"
    }
  ],
  "metadata": {
    "kernelspec": {
      "display_name": "Python 3 (ipykernel)",
      "language": "python",
      "name": "python3"
    },
    "language_info": {
      "codemirror_mode": {
        "name": "ipython",
        "version": 3
      },
      "file_extension": ".py",
      "mimetype": "text/x-python",
      "name": "python",
      "nbconvert_exporter": "python",
      "pygments_lexer": "ipython3",
      "version": "3.9.12"
    },
    "colab": {
      "provenance": [],
      "include_colab_link": true
    },
    "accelerator": "GPU",
    "gpuClass": "standard"
  },
  "nbformat": 4,
  "nbformat_minor": 5
}