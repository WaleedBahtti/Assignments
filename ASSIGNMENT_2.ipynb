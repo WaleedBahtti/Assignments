{
  "nbformat": 4,
  "nbformat_minor": 0,
  "metadata": {
    "colab": {
      "provenance": [],
      "include_colab_link": true
    },
    "kernelspec": {
      "name": "python3",
      "display_name": "Python 3"
    },
    "language_info": {
      "name": "python"
    },
    "accelerator": "GPU",
    "gpuClass": "standard"
  },
  "cells": [
    {
      "cell_type": "markdown",
      "metadata": {
        "id": "view-in-github",
        "colab_type": "text"
      },
      "source": [
        "<a href=\"https://colab.research.google.com/github/WaleedBahtti/Assignments/blob/main/ASSIGNMENT_2.ipynb\" target=\"_parent\"><img src=\"https://colab.research.google.com/assets/colab-badge.svg\" alt=\"Open In Colab\"/></a>"
      ]
    },
    {
      "cell_type": "markdown",
      "source": [
        "###Task 1:\n",
        "###Create a dictionary of city and their respective zip codes. Then ask zip code from user and provide the name of city. (Hint: use input) "
      ],
      "metadata": {
        "id": "2mWsASxldi90"
      }
    },
    {
      "cell_type": "code",
      "execution_count": null,
      "metadata": {
        "id": "Kz2wpXjnuy0s",
        "colab": {
          "base_uri": "https://localhost:8080/"
        },
        "outputId": "6067a96e-0ad4-43ac-b5ae-d5a9d8193ced"
      },
      "outputs": [
        {
          "output_type": "stream",
          "name": "stdout",
          "text": [
            "Total number of City: 5\n",
            "Enter the ZipCode : 68100\n",
            "Enter the City name: SANGHAR\n",
            "Enter the ZipCode : 68330\n",
            "Enter the City name: KHIPRO\t\n",
            "Enter the ZipCode : 66020\n",
            "Enter the City name: KHAIR PUR\t\n",
            "Enter the ZipCode : 68030\n",
            "Enter the City name: SHAHDADPUR\n",
            "Enter the ZipCode : 70010\n",
            "Enter the City name: TANDO ALLAHYAR\t\n",
            "Enter Zip code: 68330\n",
            "{'68100': 'SANGHAR', '68330': 'KHIPRO\\t', '66020': 'KHAIR PUR\\t', '68030': 'SHAHDADPUR', '70010': 'TANDO ALLAHYAR\\t'}\n",
            "KHIPRO\t\n"
          ]
        }
      ],
      "source": [
        "a = {}\n",
        "n = int(input(\"Total number of City: \"))\n",
        "\n",
        "for i in range(n):\n",
        "  Z=input(\"Enter the ZipCode : \")\n",
        "  C=input(\"Enter the City name: \")\n",
        " \n",
        "  a.update({Z:C})\n",
        "\n",
        "x = input(\"Enter Zip code: \")\n",
        "print(a)\n",
        "print(a[x])"
      ]
    },
    {
      "cell_type": "markdown",
      "source": [
        "###Task 2: (Dictionary): Create a marksheet of your class, having five student’s name and their marks, and apply following series of action: \n",
        "###A. Ask five names and their respective marks in first year \n",
        "###B. Calculate and print total marks of all students\n",
        "###C. Calculate and print average marks of all students "
      ],
      "metadata": {
        "id": "F3MOg4WPeI1r"
      }
    },
    {
      "cell_type": "code",
      "source": [
        "students = dict()\n",
        "total = 0\n",
        "n = int(input(\"How many students are there :\"))\n",
        "for i in range(n):\n",
        "  sname = input(\"Enter name of the student: \")\n",
        "  marks = []\n",
        "\n",
        "  for j in range(5):\n",
        "    mark = int(input(\"Enter marks :\")) \n",
        "    marks.append(mark)\n",
        "    total += mark\n",
        "  students[sname] = marks\n",
        "\n",
        "print (\"created dictionary of student is\",students)\n",
        "\n",
        "print (\"Total Score:\",total)\n",
        "percentage = (total/2500)*100\n",
        "print(\"Percentage:\", percentage, \"%\")"
      ],
      "metadata": {
        "id": "xg87EpcnSdBl",
        "colab": {
          "base_uri": "https://localhost:8080/"
        },
        "outputId": "d0ee8486-934d-4660-da27-9917243dd77e"
      },
      "execution_count": 5,
      "outputs": [
        {
          "output_type": "stream",
          "name": "stdout",
          "text": [
            "How many students are there :2\n",
            "Enter name of the student: hammad\n",
            "Enter marks :25\n",
            "Enter marks :50\n",
            "Enter marks :45\n",
            "Enter marks :65\n",
            "Enter marks :99\n",
            "Enter name of the student: hamza\n",
            "Enter marks :77\n",
            "Enter marks :56\n",
            "Enter marks :51\n",
            "Enter marks :72\n",
            "Enter marks :21\n",
            "created dictionary of student is {'hammad': [25, 50, 45, 65, 99], 'hamza': [77, 56, 51, 72, 21]}\n",
            "Total Score: 561\n",
            "Percentage: 22.439999999999998 %\n"
          ]
        }
      ]
    },
    {
      "cell_type": "code",
      "source": [
        "6\n",
        "\n",
        "\n",
        "\n"
      ],
      "metadata": {
        "colab": {
          "base_uri": "https://localhost:8080/"
        },
        "id": "D-kVU-wIz7BD",
        "outputId": "7719f411-86ff-42f7-f1fe-0cda06ce37d6"
      },
      "execution_count": null,
      "outputs": [
        {
          "output_type": "stream",
          "name": "stdout",
          "text": [
            "53\n"
          ]
        }
      ]
    },
    {
      "cell_type": "code",
      "source": [
        "print(\"Enter Marks Obtained in 5 Subjects: \")\n",
        "mOne = int(input())\n",
        "mTwo = int(input())\n",
        "mThree = int(input())\n",
        "mFour = int(input())\n",
        "mFive = int(input())\n",
        "\n",
        "sum = mOne+mTwo+mThree+mFour+mFive\n",
        "avg = sum/5\n",
        "perc = (sum/500)*100\n",
        "\n",
        "print(end=\"Average Mark = \")\n",
        "print(avg)\n",
        "print(end=\"Percentage Mark = \")\n",
        "print(perc)"
      ],
      "metadata": {
        "id": "TFqOVWWb4I_x",
        "colab": {
          "base_uri": "https://localhost:8080/"
        },
        "outputId": "ba650152-d5a4-4b52-e20c-4623af4e3f48"
      },
      "execution_count": 5,
      "outputs": [
        {
          "output_type": "stream",
          "name": "stdout",
          "text": [
            "Enter Marks Obtained in 5 Subjects: \n",
            "55\n",
            "65\n",
            "54\n",
            "95\n",
            "65\n",
            "Average Mark = 66.8\n",
            "Percentage Mark = 66.8\n"
          ]
        }
      ]
    },
    {
      "cell_type": "code",
      "source": [],
      "metadata": {
        "id": "wALTzg9Uf0Kg"
      },
      "execution_count": null,
      "outputs": []
    }
  ]
}