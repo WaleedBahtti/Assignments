{
  "nbformat": 4,
  "nbformat_minor": 0,
  "metadata": {
    "colab": {
      "provenance": [],
      "include_colab_link": true
    },
    "kernelspec": {
      "name": "python3",
      "display_name": "Python 3"
    },
    "language_info": {
      "name": "python"
    },
    "accelerator": "GPU",
    "gpuClass": "standard"
  },
  "cells": [
    {
      "cell_type": "markdown",
      "metadata": {
        "id": "view-in-github",
        "colab_type": "text"
      },
      "source": [
        "<a href=\"https://colab.research.google.com/github/WaleedBahtti/Assignments/blob/main/ASSIGNMENT_2.ipynb\" target=\"_parent\"><img src=\"https://colab.research.google.com/assets/colab-badge.svg\" alt=\"Open In Colab\"/></a>"
      ]
    },
    {
      "cell_type": "markdown",
      "source": [
        "###Task 1:\n",
        "###Create a dictionary of city and their respective zip codes. Then ask zip code from user and provide the name of city. (Hint: use input) "
      ],
      "metadata": {
        "id": "2mWsASxldi90"
      }
    },
    {
      "cell_type": "code",
      "execution_count": null,
      "metadata": {
        "id": "Kz2wpXjnuy0s",
        "colab": {
          "base_uri": "https://localhost:8080/"
        },
        "outputId": "6067a96e-0ad4-43ac-b5ae-d5a9d8193ced"
      },
      "outputs": [
        {
          "output_type": "stream",
          "name": "stdout",
          "text": [
            "Total number of City: 5\n",
            "Enter the ZipCode : 68100\n",
            "Enter the City name: SANGHAR\n",
            "Enter the ZipCode : 68330\n",
            "Enter the City name: KHIPRO\t\n",
            "Enter the ZipCode : 66020\n",
            "Enter the City name: KHAIR PUR\t\n",
            "Enter the ZipCode : 68030\n",
            "Enter the City name: SHAHDADPUR\n",
            "Enter the ZipCode : 70010\n",
            "Enter the City name: TANDO ALLAHYAR\t\n",
            "Enter Zip code: 68330\n",
            "{'68100': 'SANGHAR', '68330': 'KHIPRO\\t', '66020': 'KHAIR PUR\\t', '68030': 'SHAHDADPUR', '70010': 'TANDO ALLAHYAR\\t'}\n",
            "KHIPRO\t\n"
          ]
        }
      ],
      "source": [
        "a = {}\n",
        "n = int(input(\"Total number of City: \"))\n",
        "\n",
        "for i in range(n):\n",
        "  Z=input(\"Enter the ZipCode : \")\n",
        "  C=input(\"Enter the City name: \")\n",
        " \n",
        "  a.update({Z:C})\n",
        "\n",
        "x = input(\"Enter Zip code: \")\n",
        "print(a)\n",
        "print(a[x])"
      ]
    },
    {
      "cell_type": "markdown",
      "source": [
        "###Task 2: (Dictionary): Create a marksheet of your class, having five student’s name and their marks, and apply following series of action: \n",
        "###A. Ask five names and their respective marks in first year \n",
        "###B. Calculate and print total marks of all students\n",
        "###C. Calculate and print average marks of all students "
      ],
      "metadata": {
        "id": "F3MOg4WPeI1r"
      }
    },
    {
      "cell_type": "code",
      "source": [
        "students = dict()\n",
        "\n",
        "n = int(input(\"How many students are there :\"))\n",
        "for i in range(n):\n",
        "  sname = input(\"Enter name of the student: \")\n",
        "  marks = []\n",
        "  for j in range(5):\n",
        "\n",
        "    mark = int(input(\"Enter marks :\")) \n",
        "    marks.append(mark)\n",
        "  students[sname] = marks\n",
        "print (\"created dictionary of student is\",students)\n",
        "\n",
        "total = 0\n",
        "\n",
        "for i in students.values():\n",
        "    total += i\n",
        "\n",
        "print(total)\n"
      ],
      "metadata": {
        "id": "xg87EpcnSdBl",
        "colab": {
          "base_uri": "https://localhost:8080/",
          "height": 391
        },
        "outputId": "3c862727-0dad-4394-f85f-3552090f86f0"
      },
      "execution_count": 11,
      "outputs": [
        {
          "output_type": "stream",
          "name": "stdout",
          "text": [
            "How many students are there :1\n",
            "Enter name of the student: waleed\n",
            "Enter marks :85\n",
            "Enter marks :95\n",
            "Enter marks :85\n",
            "Enter marks :75\n",
            "Enter marks :65\n",
            "created dictionary of student is {'waleed': [85, 95, 85, 75, 65]}\n"
          ]
        },
        {
          "output_type": "error",
          "ename": "TypeError",
          "evalue": "ignored",
          "traceback": [
            "\u001b[0;31m---------------------------------------------------------------------------\u001b[0m",
            "\u001b[0;31mTypeError\u001b[0m                                 Traceback (most recent call last)",
            "\u001b[0;32m<ipython-input-11-dc112783f57a>\u001b[0m in \u001b[0;36m<module>\u001b[0;34m\u001b[0m\n\u001b[1;32m     15\u001b[0m \u001b[0;34m\u001b[0m\u001b[0m\n\u001b[1;32m     16\u001b[0m \u001b[0;32mfor\u001b[0m \u001b[0mi\u001b[0m \u001b[0;32min\u001b[0m \u001b[0mstudents\u001b[0m\u001b[0;34m.\u001b[0m\u001b[0mvalues\u001b[0m\u001b[0;34m(\u001b[0m\u001b[0;34m)\u001b[0m\u001b[0;34m:\u001b[0m\u001b[0;34m\u001b[0m\u001b[0;34m\u001b[0m\u001b[0m\n\u001b[0;32m---> 17\u001b[0;31m     \u001b[0mtotal\u001b[0m \u001b[0;34m+=\u001b[0m \u001b[0mi\u001b[0m\u001b[0;34m\u001b[0m\u001b[0;34m\u001b[0m\u001b[0m\n\u001b[0m\u001b[1;32m     18\u001b[0m \u001b[0;34m\u001b[0m\u001b[0m\n\u001b[1;32m     19\u001b[0m \u001b[0mprint\u001b[0m\u001b[0;34m(\u001b[0m\u001b[0mtotal\u001b[0m\u001b[0;34m)\u001b[0m\u001b[0;34m\u001b[0m\u001b[0;34m\u001b[0m\u001b[0m\n",
            "\u001b[0;31mTypeError\u001b[0m: unsupported operand type(s) for +=: 'int' and 'list'"
          ]
        }
      ]
    },
    {
      "cell_type": "code",
      "source": [
        "d1 = {'a' : 15,'b' : 18,'c' : 20}\n",
        "\n",
        "total = 0\n",
        "\n",
        "for i in d1.values():\n",
        "    total += i\n",
        "\n",
        "print(total)\n",
        "\n",
        "\n",
        "\n",
        "\n",
        "\n",
        "total = mark\n",
        "print (\"Total Score:\",total)\n",
        "percentage = (total/2500)*100\n",
        "print(\"Percentage:\", percentage, \"%\")"
      ],
      "metadata": {
        "colab": {
          "base_uri": "https://localhost:8080/"
        },
        "id": "D-kVU-wIz7BD",
        "outputId": "7719f411-86ff-42f7-f1fe-0cda06ce37d6"
      },
      "execution_count": 10,
      "outputs": [
        {
          "output_type": "stream",
          "name": "stdout",
          "text": [
            "53\n"
          ]
        }
      ]
    },
    {
      "cell_type": "code",
      "source": [],
      "metadata": {
        "id": "TFqOVWWb4I_x"
      },
      "execution_count": null,
      "outputs": []
    }
  ]
}