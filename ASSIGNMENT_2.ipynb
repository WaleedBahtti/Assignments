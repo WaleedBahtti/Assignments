{
  "nbformat": 4,
  "nbformat_minor": 0,
  "metadata": {
    "colab": {
      "provenance": [],
      "include_colab_link": true
    },
    "kernelspec": {
      "name": "python3",
      "display_name": "Python 3"
    },
    "language_info": {
      "name": "python"
    },
    "accelerator": "GPU",
    "gpuClass": "standard"
  },
  "cells": [
    {
      "cell_type": "markdown",
      "metadata": {
        "id": "view-in-github",
        "colab_type": "text"
      },
      "source": [
        "<a href=\"https://colab.research.google.com/github/WaleedBahtti/Assignments/blob/main/ASSIGNMENT_2.ipynb\" target=\"_parent\"><img src=\"https://colab.research.google.com/assets/colab-badge.svg\" alt=\"Open In Colab\"/></a>"
      ]
    },
    {
      "cell_type": "markdown",
      "source": [
        "###Task 1:\n",
        "###Create a dictionary of city and their respective zip codes. Then ask zip code from user and provide the name of city. (Hint: use input) "
      ],
      "metadata": {
        "id": "2mWsASxldi90"
      }
    },
    {
      "cell_type": "code",
      "execution_count": null,
      "metadata": {
        "id": "Kz2wpXjnuy0s",
        "colab": {
          "base_uri": "https://localhost:8080/"
        },
        "outputId": "6067a96e-0ad4-43ac-b5ae-d5a9d8193ced"
      },
      "outputs": [
        {
          "output_type": "stream",
          "name": "stdout",
          "text": [
            "Total number of City: 5\n",
            "Enter the ZipCode : 68100\n",
            "Enter the City name: SANGHAR\n",
            "Enter the ZipCode : 68330\n",
            "Enter the City name: KHIPRO\t\n",
            "Enter the ZipCode : 66020\n",
            "Enter the City name: KHAIR PUR\t\n",
            "Enter the ZipCode : 68030\n",
            "Enter the City name: SHAHDADPUR\n",
            "Enter the ZipCode : 70010\n",
            "Enter the City name: TANDO ALLAHYAR\t\n",
            "Enter Zip code: 68330\n",
            "{'68100': 'SANGHAR', '68330': 'KHIPRO\\t', '66020': 'KHAIR PUR\\t', '68030': 'SHAHDADPUR', '70010': 'TANDO ALLAHYAR\\t'}\n",
            "KHIPRO\t\n"
          ]
        }
      ],
      "source": [
        "a = {}\n",
        "n = int(input(\"Total number of City: \"))\n",
        "\n",
        "for i in range(n):\n",
        "  Z=input(\"Enter the ZipCode : \")\n",
        "  C=input(\"Enter the City name: \")\n",
        " \n",
        "  a.update({Z:C})\n",
        "\n",
        "x = input(\"Enter Zip code: \")\n",
        "print(a)\n",
        "print(a[x])"
      ]
    },
    {
      "cell_type": "markdown",
      "source": [
        "###Task 2: (Dictionary): Create a marksheet of your class, having five student’s name and their marks, and apply following series of action: \n",
        "###A. Ask five names and their respective marks in first year \n",
        "###B. Calculate and print total marks of all students\n",
        "###C. Calculate and print average marks of all students "
      ],
      "metadata": {
        "id": "F3MOg4WPeI1r"
      }
    },
    {
      "cell_type": "code",
      "source": [
        "students = dict()\n",
        "\n",
        "n = int(input(\"How many students are there :\"))\n",
        "for i in range(n):\n",
        "  sname = input(\"Enter name of the student: \")\n",
        "  marks = []\n",
        "  for j in range(5):\n",
        "\n",
        "    mark = int(input(\"Enter marks :\")) \n",
        "    marks.append(mark)\n",
        "  students[sname] = marks\n",
        "print (\"created dictionary of student is\",students)\n",
        "total = mark\n",
        "print (\"Total Score:\",total)\n",
        "percentage = (total/2500)*100\n",
        "print(\"Percentage:\", percentage, \"%\")"
      ],
      "metadata": {
        "id": "xg87EpcnSdBl",
        "colab": {
          "base_uri": "https://localhost:8080/"
        },
        "outputId": "4876ab0e-9140-4c9a-c962-611517ad6e13"
      },
      "execution_count": 12,
      "outputs": [
        {
          "output_type": "stream",
          "name": "stdout",
          "text": [
            "How many students are there :5\n",
            "Enter name of the student: waleed\n",
            "Enter marks :85\n",
            "Enter marks :95\n",
            "Enter marks :75\n",
            "Enter marks :65\n",
            "Enter marks :45\n",
            "Enter name of the student: hani\n",
            "Enter marks :75\n",
            "Enter marks :65\n",
            "Enter marks :85\n",
            "Enter marks :65\n",
            "Enter marks :45\n",
            "Enter name of the student: hatim\n",
            "Enter marks :65\n",
            "Enter marks :85\n",
            "Enter marks :44\n",
            "Enter marks :88\n",
            "Enter marks :99\n",
            "Enter name of the student: haytam\n",
            "Enter marks :85\n",
            "Enter marks :65\n",
            "Enter marks :95\n",
            "Enter marks :75\n",
            "Enter marks :45\n",
            "Enter name of the student: hamza\n",
            "Enter marks :87\n",
            "Enter marks :97\n",
            "Enter marks :77\n",
            "Enter marks :87\n",
            "Enter marks :78\n",
            "created dictionary of student is {'waleed': [85, 95, 75, 65, 45], 'hani': [75, 65, 85, 65, 45], 'hatim': [65, 85, 44, 88, 99], 'haytam': [85, 65, 95, 75, 45], 'hamza': [87, 97, 77, 87, 78]}\n",
            "Total Score: 78\n",
            "Percentage: 3.1199999999999997 %\n"
          ]
        }
      ]
    },
    {
      "cell_type": "code",
      "source": [
        "6\n",
        "\n",
        "\n",
        "\n"
      ],
      "metadata": {
        "colab": {
          "base_uri": "https://localhost:8080/"
        },
        "id": "D-kVU-wIz7BD",
        "outputId": "7719f411-86ff-42f7-f1fe-0cda06ce37d6"
      },
      "execution_count": 10,
      "outputs": [
        {
          "output_type": "stream",
          "name": "stdout",
          "text": [
            "53\n"
          ]
        }
      ]
    },
    {
      "cell_type": "code",
      "source": [],
      "metadata": {
        "id": "TFqOVWWb4I_x"
      },
      "execution_count": null,
      "outputs": []
    }
  ]
}